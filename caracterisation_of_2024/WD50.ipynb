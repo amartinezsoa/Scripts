{
 "cells": [
  {
   "cell_type": "code",
   "execution_count": 3,
   "metadata": {},
   "outputs": [],
   "source": [
    "import matplotlib.pyplot as plt\n",
    "import pandas as pd\n",
    "import numpy as np\n"
   ]
  },
  {
   "cell_type": "code",
   "execution_count": 4,
   "metadata": {},
   "outputs": [
    {
     "data": {
      "text/html": [
       "<div>\n",
       "<style scoped>\n",
       "    .dataframe tbody tr th:only-of-type {\n",
       "        vertical-align: middle;\n",
       "    }\n",
       "\n",
       "    .dataframe tbody tr th {\n",
       "        vertical-align: top;\n",
       "    }\n",
       "\n",
       "    .dataframe thead th {\n",
       "        text-align: right;\n",
       "    }\n",
       "</style>\n",
       "<table border=\"1\" class=\"dataframe\">\n",
       "  <thead>\n",
       "    <tr style=\"text-align: right;\">\n",
       "      <th></th>\n",
       "      <th>year</th>\n",
       "      <th>PRECIP_QUANTITY_x</th>\n",
       "      <th>PRECIP_QUANTITY_y</th>\n",
       "      <th>TP</th>\n",
       "      <th>season</th>\n",
       "    </tr>\n",
       "  </thead>\n",
       "  <tbody>\n",
       "    <tr>\n",
       "      <th>0</th>\n",
       "      <td>1893</td>\n",
       "      <td>372.86</td>\n",
       "      <td>281.48</td>\n",
       "      <td>654.34</td>\n",
       "      <td>1892-1893</td>\n",
       "    </tr>\n",
       "    <tr>\n",
       "      <th>1</th>\n",
       "      <td>1894</td>\n",
       "      <td>500.11</td>\n",
       "      <td>283.52</td>\n",
       "      <td>783.63</td>\n",
       "      <td>1893-1894</td>\n",
       "    </tr>\n",
       "    <tr>\n",
       "      <th>2</th>\n",
       "      <td>1895</td>\n",
       "      <td>521.08</td>\n",
       "      <td>342.29</td>\n",
       "      <td>863.37</td>\n",
       "      <td>1894-1895</td>\n",
       "    </tr>\n",
       "    <tr>\n",
       "      <th>3</th>\n",
       "      <td>1896</td>\n",
       "      <td>396.22</td>\n",
       "      <td>291.21</td>\n",
       "      <td>687.43</td>\n",
       "      <td>1895-1896</td>\n",
       "    </tr>\n",
       "    <tr>\n",
       "      <th>4</th>\n",
       "      <td>1897</td>\n",
       "      <td>555.48</td>\n",
       "      <td>350.89</td>\n",
       "      <td>906.37</td>\n",
       "      <td>1896-1897</td>\n",
       "    </tr>\n",
       "  </tbody>\n",
       "</table>\n",
       "</div>"
      ],
      "text/plain": [
       "   year  PRECIP_QUANTITY_x  PRECIP_QUANTITY_y      TP     season\n",
       "0  1893             372.86             281.48  654.34  1892-1893\n",
       "1  1894             500.11             283.52  783.63  1893-1894\n",
       "2  1895             521.08             342.29  863.37  1894-1895\n",
       "3  1896             396.22             291.21  687.43  1895-1896\n",
       "4  1897             555.48             350.89  906.37  1896-1897"
      ]
     },
     "execution_count": 4,
     "metadata": {},
     "output_type": "execute_result"
    }
   ],
   "source": [
    "\n",
    "df_path='C:/Users/anton/Documents/Master2/Memoire/Scripts/tp_since_1892/Precip_Uccle_1892.csv'\n",
    "df=pd.read_csv(df_path,delimiter=',')\n",
    "df['DAY'] = pd.to_datetime(df['DAY'])\n",
    "df['year'] = df['DAY'].dt.to_period('Y')\n",
    "df['year_month']=df['DAY'].dt.to_period('M')\n",
    "df['month']=df['DAY'].dt.month\n",
    "df.head()   \n",
    "\n",
    "#I want to regroup the years from september first to august 31st\n",
    "\n",
    "tp_first_8_months = df[df['month']<9].groupby('year')['PRECIP_QUANTITY'].sum().reset_index()\n",
    "tp_last_4_months = df[df['month']>8].groupby('year')['PRECIP_QUANTITY'].sum().reset_index()\n",
    "\n",
    "tp_first_8_months['year']=tp_first_8_months['year']\n",
    "tp_last_4_months['year']=tp_last_4_months['year']+1\n",
    "\n",
    "tp_seasonal_year = pd.merge(tp_first_8_months,tp_last_4_months, on='year', how='inner')\n",
    "tp_seasonal_year['TP']=tp_seasonal_year['PRECIP_QUANTITY_x']+tp_seasonal_year['PRECIP_QUANTITY_y']\n",
    "\n",
    "tp_seasonal_year.head()\n",
    "#I want a new colomn with 'year-1/year' to have the year of the season. For example 1892-1893 is the season of 1893\n",
    "tp_seasonal_year['season']=(tp_seasonal_year['year']-1).astype(str)+'-'+(tp_seasonal_year['year']).astype(str)\n",
    "tp_seasonal_year.head()\n"
   ]
  },
  {
   "cell_type": "code",
   "execution_count": 5,
   "metadata": {},
   "outputs": [],
   "source": [
    "\n",
    "first_year=1893\n",
    "last_year=2024\n",
    "years=np.linspace(first_year,last_year,last_year-first_year+1)\n"
   ]
  },
  {
   "cell_type": "code",
   "execution_count": 6,
   "metadata": {},
   "outputs": [],
   "source": [
    "\n",
    "# Initialize the list to store the number of days needed per year to reach the threshold\n",
    "threshold=tp_seasonal_year['TP']*0.5\n",
    "wd50 = []\n",
    "\n",
    "\n",
    "for this_year in tp_seasonal_year['year']:\n",
    "    ano = f'{this_year-1}'\n",
    "    ano_mas=f'{this_year}'  # Adjust for the year format\n",
    "    tp_concat = pd.concat([df[(df['year'] == ano_mas) & (df['month'] < 9)],\n",
    "                           df[(df['year'] == ano) & (df['month'] > 8)]])\n",
    "    tp_concat_ranked=tp_concat[tp_concat['PRECIP_QUANTITY']>0].sort_values(by=['PRECIP_QUANTITY'],ascending=[False])\n",
    "    cumsum = 0\n",
    "    days_count = 0 \n",
    "    for index, row in tp_concat_ranked.iterrows():\n",
    "        cumsum += row['PRECIP_QUANTITY']\n",
    "        days_count += 1 \n",
    "        if cumsum > threshold[int(ano_mas)-first_year]:\n",
    "        #if cumsum > 200:    \n",
    "            wd50.append(days_count) \n",
    "            break\n"
   ]
  },
  {
   "cell_type": "code",
   "execution_count": 7,
   "metadata": {},
   "outputs": [
    {
     "data": {
      "image/png": "[encoded data removed]",
      "text/plain": [
       "<Figure size 720x432 with 1 Axes>"
      ]
     },
     "metadata": {
      "needs_background": "light"
     },
     "output_type": "display_data"
    },
    {
     "name": "stdout",
     "output_type": "stream",
     "text": [
      "Moyenne de WD50 de 1893-2003: 29.954545454545453 et de 2004-2024: 27.238095238095237\n",
      "Moyenne de WD50 de 1950-1985: 29.885714285714286 et de 1986-2024: 28.358974358974358\n"
     ]
    }
   ],
   "source": [
    "\n",
    "\n",
    "plt.figure(figsize=(10, 6))\n",
    "plt.bar(years, wd50, label='Total Precipitation')\n",
    "plt.ylabel('Days')\n",
    "plt.title('WD50')\n",
    "plt.grid()\n",
    "#z = np.polyfit(years, wd50, 1)\n",
    "#p = np.poly1d(z)\n",
    "#plt.plot(years, p(years), \"r--\", label='Trendline')\n",
    "\n",
    "plt.show()\n",
    "\n",
    "print(f'Moyenne de WD50 de 1893-2003: {np.mean(wd50[:110])} et de 2004-2024: {np.mean(wd50[111:])}')\n",
    "print(f'Moyenne de WD50 de 1950-1985: {np.mean(wd50[57:92])} et de 1986-2024: {np.mean(wd50[93:])}')\n"
   ]
  },
  {
   "cell_type": "code",
   "execution_count": null,
   "metadata": {},
   "outputs": [],
   "source": []
  }
 ],
 "metadata": {
  "kernelspec": {
   "display_name": "base",
   "language": "python",
   "name": "python3"
  },
  "language_info": {
   "codemirror_mode": {
    "name": "ipython",
    "version": 3
   },
   "file_extension": ".py",
   "mimetype": "text/x-python",
   "name": "python",
   "nbconvert_exporter": "python",
   "pygments_lexer": "ipython3",
   "version": "3.8.5"
  }
 },
 "nbformat": 4,
 "nbformat_minor": 2
}
