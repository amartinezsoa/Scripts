{
 "cells": [
  {
   "cell_type": "code",
   "execution_count": 1,
   "metadata": {},
   "outputs": [],
   "source": [
    "import matplotlib.pyplot as plt\n",
    "import pandas as pd\n",
    "import numpy as np\n",
    "import scipy.stats as stats"
   ]
  },
  {
   "cell_type": "code",
   "execution_count": 2,
   "metadata": {},
   "outputs": [
    {
     "data": {
      "text/html": [
       "<div>\n",
       "<style scoped>\n",
       "    .dataframe tbody tr th:only-of-type {\n",
       "        vertical-align: middle;\n",
       "    }\n",
       "\n",
       "    .dataframe tbody tr th {\n",
       "        vertical-align: top;\n",
       "    }\n",
       "\n",
       "    .dataframe thead th {\n",
       "        text-align: right;\n",
       "    }\n",
       "</style>\n",
       "<table border=\"1\" class=\"dataframe\">\n",
       "  <thead>\n",
       "    <tr style=\"text-align: right;\">\n",
       "      <th></th>\n",
       "      <th>DAY</th>\n",
       "      <th>PRECIP_QUANTITY</th>\n",
       "      <th>year</th>\n",
       "      <th>year_month</th>\n",
       "      <th>month</th>\n",
       "    </tr>\n",
       "  </thead>\n",
       "  <tbody>\n",
       "    <tr>\n",
       "      <th>0</th>\n",
       "      <td>1892-01-01</td>\n",
       "      <td>1.94</td>\n",
       "      <td>1892</td>\n",
       "      <td>1892-01</td>\n",
       "      <td>1</td>\n",
       "    </tr>\n",
       "    <tr>\n",
       "      <th>1</th>\n",
       "      <td>1892-01-02</td>\n",
       "      <td>0.49</td>\n",
       "      <td>1892</td>\n",
       "      <td>1892-01</td>\n",
       "      <td>1</td>\n",
       "    </tr>\n",
       "    <tr>\n",
       "      <th>2</th>\n",
       "      <td>1892-01-03</td>\n",
       "      <td>0.00</td>\n",
       "      <td>1892</td>\n",
       "      <td>1892-01</td>\n",
       "      <td>1</td>\n",
       "    </tr>\n",
       "    <tr>\n",
       "      <th>3</th>\n",
       "      <td>1892-01-04</td>\n",
       "      <td>0.00</td>\n",
       "      <td>1892</td>\n",
       "      <td>1892-01</td>\n",
       "      <td>1</td>\n",
       "    </tr>\n",
       "    <tr>\n",
       "      <th>4</th>\n",
       "      <td>1892-01-05</td>\n",
       "      <td>0.87</td>\n",
       "      <td>1892</td>\n",
       "      <td>1892-01</td>\n",
       "      <td>1</td>\n",
       "    </tr>\n",
       "  </tbody>\n",
       "</table>\n",
       "</div>"
      ],
      "text/plain": [
       "         DAY  PRECIP_QUANTITY  year year_month  month\n",
       "0 1892-01-01             1.94  1892    1892-01      1\n",
       "1 1892-01-02             0.49  1892    1892-01      1\n",
       "2 1892-01-03             0.00  1892    1892-01      1\n",
       "3 1892-01-04             0.00  1892    1892-01      1\n",
       "4 1892-01-05             0.87  1892    1892-01      1"
      ]
     },
     "execution_count": 2,
     "metadata": {},
     "output_type": "execute_result"
    }
   ],
   "source": [
    "\n",
    "df_path='C:/Users/anton/Documents/Master2/Memoire/Scripts/tp_since_1892/Precip_Uccle_1892.csv'\n",
    "df=pd.read_csv(df_path,delimiter=',')\n",
    "df['DAY'] = pd.to_datetime(df['DAY'])\n",
    "df['year'] = df['DAY'].dt.to_period('Y')\n",
    "df['year_month']=df['DAY'].dt.to_period('M')\n",
    "df['month']=df['DAY'].dt.month\n",
    "df.head()   "
   ]
  },
  {
   "cell_type": "code",
   "execution_count": 5,
   "metadata": {},
   "outputs": [
    {
     "data": {
      "text/html": [
       "<div>\n",
       "<style scoped>\n",
       "    .dataframe tbody tr th:only-of-type {\n",
       "        vertical-align: middle;\n",
       "    }\n",
       "\n",
       "    .dataframe tbody tr th {\n",
       "        vertical-align: top;\n",
       "    }\n",
       "\n",
       "    .dataframe thead th {\n",
       "        text-align: right;\n",
       "    }\n",
       "</style>\n",
       "<table border=\"1\" class=\"dataframe\">\n",
       "  <thead>\n",
       "    <tr style=\"text-align: right;\">\n",
       "      <th></th>\n",
       "      <th>year</th>\n",
       "      <th>PRECIP_QUANTITY_x</th>\n",
       "      <th>PRECIP_QUANTITY_y</th>\n",
       "      <th>TP</th>\n",
       "      <th>season</th>\n",
       "    </tr>\n",
       "  </thead>\n",
       "  <tbody>\n",
       "    <tr>\n",
       "      <th>0</th>\n",
       "      <td>1893</td>\n",
       "      <td>372.86</td>\n",
       "      <td>281.48</td>\n",
       "      <td>654.34</td>\n",
       "      <td>1892-1893</td>\n",
       "    </tr>\n",
       "    <tr>\n",
       "      <th>1</th>\n",
       "      <td>1894</td>\n",
       "      <td>500.11</td>\n",
       "      <td>283.52</td>\n",
       "      <td>783.63</td>\n",
       "      <td>1893-1894</td>\n",
       "    </tr>\n",
       "    <tr>\n",
       "      <th>2</th>\n",
       "      <td>1895</td>\n",
       "      <td>521.08</td>\n",
       "      <td>342.29</td>\n",
       "      <td>863.37</td>\n",
       "      <td>1894-1895</td>\n",
       "    </tr>\n",
       "    <tr>\n",
       "      <th>3</th>\n",
       "      <td>1896</td>\n",
       "      <td>396.22</td>\n",
       "      <td>291.21</td>\n",
       "      <td>687.43</td>\n",
       "      <td>1895-1896</td>\n",
       "    </tr>\n",
       "    <tr>\n",
       "      <th>4</th>\n",
       "      <td>1897</td>\n",
       "      <td>555.48</td>\n",
       "      <td>350.89</td>\n",
       "      <td>906.37</td>\n",
       "      <td>1896-1897</td>\n",
       "    </tr>\n",
       "  </tbody>\n",
       "</table>\n",
       "</div>"
      ],
      "text/plain": [
       "   year  PRECIP_QUANTITY_x  PRECIP_QUANTITY_y      TP     season\n",
       "0  1893             372.86             281.48  654.34  1892-1893\n",
       "1  1894             500.11             283.52  783.63  1893-1894\n",
       "2  1895             521.08             342.29  863.37  1894-1895\n",
       "3  1896             396.22             291.21  687.43  1895-1896\n",
       "4  1897             555.48             350.89  906.37  1896-1897"
      ]
     },
     "execution_count": 5,
     "metadata": {},
     "output_type": "execute_result"
    }
   ],
   "source": [
    "tp_first_8_months = df[df['month']<9].groupby('year')['PRECIP_QUANTITY'].sum().reset_index()\n",
    "tp_last_4_months = df[df['month']>8].groupby('year')['PRECIP_QUANTITY'].sum().reset_index()\n",
    "\n",
    "tp_first_8_months['year']=tp_first_8_months['year']\n",
    "tp_last_4_months['year']=tp_last_4_months['year']+1\n",
    "\n",
    "tp_seasonal_year = pd.merge(tp_first_8_months,tp_last_4_months, on='year', how='inner')\n",
    "tp_seasonal_year['TP']=tp_seasonal_year['PRECIP_QUANTITY_x']+tp_seasonal_year['PRECIP_QUANTITY_y']\n",
    "\n",
    "tp_seasonal_year.head()\n",
    "tp_seasonal_year['season']=(tp_seasonal_year['year']-1).astype(str)+'-'+(tp_seasonal_year['year']).astype(str)\n",
    "tp_seasonal_year.head()\n"
   ]
  },
  {
   "cell_type": "code",
   "execution_count": 4,
   "metadata": {},
   "outputs": [
    {
     "data": {
      "image/png": "[encoded data removed]",
      "text/plain": [
       "<Figure size 720x432 with 1 Axes>"
      ]
     },
     "metadata": {
      "needs_background": "light"
     },
     "output_type": "display_data"
    }
   ],
   "source": [
    "#plot as a bar plot the total precipitation of the season of every year\n",
    "years = tp_seasonal_year['season'].unique()\n",
    "years.sort()\n",
    "\n",
    "# Select every 50th year and the last year\n",
    "selected_years = list(years[::30])\n",
    "selected_years.append(years[-1])\n",
    "\n",
    "\n",
    "plt.figure(figsize=(10, 6))\n",
    "plt.bar(tp_seasonal_year['season'], tp_seasonal_year['TP'], label='Total Precipitation')\n",
    "plt.ylabel('Total Precipitation [mm]')\n",
    "plt.title('Yearly Precipitation Data from September 1 to August 31')\n",
    "plt.grid()\n",
    "#z = np.polyfit(years, historic_precipitation, 1)\n",
    "#p = np.poly1d(z)\n",
    "#plt.plot(years, p(years), \"r--\", label='Trendline')\n",
    "plt.xticks(selected_years, rotation=45)\n",
    "\n",
    "plt.show()\n"
   ]
  },
  {
   "cell_type": "code",
   "execution_count": null,
   "metadata": {},
   "outputs": [],
   "source": []
  }
 ],
 "metadata": {
  "kernelspec": {
   "display_name": "base",
   "language": "python",
   "name": "python3"
  },
  "language_info": {
   "codemirror_mode": {
    "name": "ipython",
    "version": 3
   },
   "file_extension": ".py",
   "mimetype": "text/x-python",
   "name": "python",
   "nbconvert_exporter": "python",
   "pygments_lexer": "ipython3",
   "version": "3.8.5"
  }
 },
 "nbformat": 4,
 "nbformat_minor": 2
}
