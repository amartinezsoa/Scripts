{
 "cells": [
  {
   "cell_type": "code",
   "execution_count": 14,
   "metadata": {},
   "outputs": [],
   "source": [
    "import matplotlib.pyplot as plt\n",
    "import csv\n",
    "import pandas as pd\n",
    "import numpy as np"
   ]
  },
  {
   "cell_type": "code",
   "execution_count": 15,
   "metadata": {},
   "outputs": [],
   "source": [
    "first_year=1892\n",
    "last_year=2024\n",
    "years=np.linspace(first_year,last_year,last_year-first_year+1)"
   ]
  },
  {
   "cell_type": "code",
   "execution_count": 16,
   "metadata": {},
   "outputs": [
    {
     "data": {
      "text/html": [
       "<div>\n",
       "<style scoped>\n",
       "    .dataframe tbody tr th:only-of-type {\n",
       "        vertical-align: middle;\n",
       "    }\n",
       "\n",
       "    .dataframe tbody tr th {\n",
       "        vertical-align: top;\n",
       "    }\n",
       "\n",
       "    .dataframe thead th {\n",
       "        text-align: right;\n",
       "    }\n",
       "</style>\n",
       "<table border=\"1\" class=\"dataframe\">\n",
       "  <thead>\n",
       "    <tr style=\"text-align: right;\">\n",
       "      <th></th>\n",
       "      <th>DAY</th>\n",
       "      <th>PRECIP_QUANTITY</th>\n",
       "    </tr>\n",
       "  </thead>\n",
       "  <tbody>\n",
       "    <tr>\n",
       "      <th>0</th>\n",
       "      <td>1892-01-01</td>\n",
       "      <td>1.94</td>\n",
       "    </tr>\n",
       "    <tr>\n",
       "      <th>1</th>\n",
       "      <td>1892-01-02</td>\n",
       "      <td>0.49</td>\n",
       "    </tr>\n",
       "    <tr>\n",
       "      <th>2</th>\n",
       "      <td>1892-01-03</td>\n",
       "      <td>0.00</td>\n",
       "    </tr>\n",
       "    <tr>\n",
       "      <th>3</th>\n",
       "      <td>1892-01-04</td>\n",
       "      <td>0.00</td>\n",
       "    </tr>\n",
       "    <tr>\n",
       "      <th>4</th>\n",
       "      <td>1892-01-05</td>\n",
       "      <td>0.87</td>\n",
       "    </tr>\n",
       "  </tbody>\n",
       "</table>\n",
       "</div>"
      ],
      "text/plain": [
       "          DAY  PRECIP_QUANTITY\n",
       "0  1892-01-01             1.94\n",
       "1  1892-01-02             0.49\n",
       "2  1892-01-03             0.00\n",
       "3  1892-01-04             0.00\n",
       "4  1892-01-05             0.87"
      ]
     },
     "execution_count": 16,
     "metadata": {},
     "output_type": "execute_result"
    }
   ],
   "source": [
    "df_path='C:/Users/anton/Documents/Master2/Memoire/Scripts/tp_since_1892/Precip_Uccle_1892.csv'\n",
    "df=pd.read_csv(df_path,delimiter=',')\n",
    "df.head()"
   ]
  },
  {
   "cell_type": "code",
   "execution_count": 17,
   "metadata": {},
   "outputs": [],
   "source": [
    "df['DAY'] = pd.to_datetime(df['DAY'])"
   ]
  },
  {
   "cell_type": "code",
   "execution_count": 18,
   "metadata": {},
   "outputs": [],
   "source": [
    "df['year'] = df['DAY'].dt.to_period('Y')\n",
    "df['year_month']=df['DAY'].dt.to_period('M')\n",
    "df['month']=df['DAY'].dt.month"
   ]
  },
  {
   "cell_type": "code",
   "execution_count": 19,
   "metadata": {},
   "outputs": [
    {
     "data": {
      "image/png": "[encoded data removed]",
      "text/plain": [
       "<Figure size 720x432 with 1 Axes>"
      ]
     },
     "metadata": {
      "needs_background": "light"
     },
     "output_type": "display_data"
    }
   ],
   "source": [
    "tp_first_8_months = df[df['month']<9].groupby('year')['PRECIP_QUANTITY'].sum().reset_index()\n",
    "\n",
    "\n",
    "plt.figure(figsize=(10, 6))\n",
    "plt.bar(years, tp_first_8_months['PRECIP_QUANTITY'], label='Total Precipitation')\n",
    "plt.ylabel('Total Precipitation [m]')\n",
    "plt.title('Historic Precipitation of first 8 months')\n",
    "plt.grid()\n",
    "#z = np.polyfit(years, historic_precipitation, 1)\n",
    "#p = np.poly1d(z)\n",
    "#plt.plot(years, p(years), \"r--\", label='Trendline')\n",
    "\n",
    "plt.show()\n"
   ]
  },
  {
   "cell_type": "code",
   "execution_count": 20,
   "metadata": {},
   "outputs": [
    {
     "data": {
      "text/plain": [
       "(133, 2)"
      ]
     },
     "execution_count": 20,
     "metadata": {},
     "output_type": "execute_result"
    }
   ],
   "source": [
    "extreme_events=tp_first_8_months[tp_first_8_months['PRECIP_QUANTITY']>500]\n",
    "tp_first_8_months.shape"
   ]
  },
  {
   "cell_type": "code",
   "execution_count": 42,
   "metadata": {},
   "outputs": [
    {
     "data": {
      "image/png": "[encoded data removed]",
      "text/plain": [
       "<Figure size 720x432 with 1 Axes>"
      ]
     },
     "metadata": {
      "needs_background": "light"
     },
     "output_type": "display_data"
    }
   ],
   "source": [
    "#plot a histogram of the extreme events with a total area of 83/133\n",
    "plt.figure(figsize=(10, 6))\n",
    "plt.hist(extreme_events['PRECIP_QUANTITY'],bins=10,density=True)\n",
    "plt.ylabel('Probability density')\n",
    "plt.xlabel('Total Precipitation [m]')\n",
    "plt.title('Histogram of extreme events')\n",
    "plt.grid()\n",
    "plt.show()\n",
    "\n"
   ]
  },
  {
   "cell_type": "code",
   "execution_count": 22,
   "metadata": {},
   "outputs": [
    {
     "data": {
      "image/png": "[encoded data removed]",
      "text/plain": [
       "<Figure size 720x432 with 1 Axes>"
      ]
     },
     "metadata": {
      "needs_background": "light"
     },
     "output_type": "display_data"
    },
    {
     "name": "stdout",
     "output_type": "stream",
     "text": [
      "-0.23187964638670944 548.1202400794417 44.161354107627886\n"
     ]
    }
   ],
   "source": [
    "from scipy.stats import genextreme\n",
    "\n",
    "# Fit the GEV distribution to the data\n",
    "shape, loc, scale = genextreme.fit(extreme_events['PRECIP_QUANTITY'])\n",
    "\n",
    "\n",
    "plt.figure(figsize=(10, 6))\n",
    "plt.hist(extreme_events['PRECIP_QUANTITY'], bins=10, density=True, alpha=0.5, color='g', label='EPE')\n",
    "\n",
    "# Generate x values for the GEV curve\n",
    "x = np.linspace(extreme_events['PRECIP_QUANTITY'].min(), extreme_events['PRECIP_QUANTITY'].max(), 1000)\n",
    "# Plot the GEV curve\n",
    "plt.plot(x, genextreme.pdf(x, shape, loc, scale), 'r-', lw=2, label='GEV fit')\n",
    "#color the region below the GEV curve from 800 to 1000\n",
    "x_fill = np.linspace(800, 1000, 1000)\n",
    "plt.fill_between(x_fill, genextreme.pdf(x_fill, shape, loc, scale), color='red', alpha=1)\n",
    "\n",
    "\n",
    "\n",
    "plt.ylabel('Probability Density')\n",
    "plt.xlabel('Total Precipitation [mm]')\n",
    "plt.title('Histogram of Extreme Events with GEV Fit')\n",
    "plt.grid()\n",
    "plt.legend()\n",
    "plt.show()\n",
    "print(shape, loc, scale)    "
   ]
  },
  {
   "cell_type": "code",
   "execution_count": 43,
   "metadata": {},
   "outputs": [
    {
     "data": {
      "text/plain": [
       "0.011650264822240932"
      ]
     },
     "execution_count": 43,
     "metadata": {},
     "output_type": "execute_result"
    }
   ],
   "source": [
    "#calculate the integral of the GEV curve from 800    \n",
    "from scipy.integrate import quad\n",
    "integral, error = quad(genextreme.pdf, 836, 100000, args=(shape, loc, scale))\n",
    "integral*83/133  #multiplied by the total area of the histogram\n"
   ]
  },
  {
   "cell_type": "code",
   "execution_count": 24,
   "metadata": {},
   "outputs": [],
   "source": [
    "rainy_days = df[df['PRECIP_QUANTITY']!=0]"
   ]
  },
  {
   "cell_type": "code",
   "execution_count": 25,
   "metadata": {},
   "outputs": [
    {
     "data": {
      "image/png": "[encoded data removed]",
      "text/plain": [
       "<Figure size 720x432 with 1 Axes>"
      ]
     },
     "metadata": {
      "needs_background": "light"
     },
     "output_type": "display_data"
    }
   ],
   "source": [
    "rainy_days_8_months = rainy_days[rainy_days['month']<9].groupby('year')['PRECIP_QUANTITY'].count().reset_index()\n",
    "\n",
    "\n",
    "plt.figure(figsize=(10, 6))\n",
    "plt.bar(years, rainy_days_8_months['PRECIP_QUANTITY'], label='Total Precipitation')\n",
    "plt.ylabel('Total Rainy Days')\n",
    "plt.title('Historic Rainy Days of first 8 months')\n",
    "plt.grid()\n",
    "#z = np.polyfit(years, rainy_days_8_months['PRECIP_QUANTITY'], 1)\n",
    "#p = np.poly1d(z)\n",
    "#plt.plot(years, p(years), \"r--\", label='Trendline')\n",
    "\n",
    "plt.show()"
   ]
  },
  {
   "cell_type": "code",
   "execution_count": 26,
   "metadata": {},
   "outputs": [],
   "source": [
    "#WD50"
   ]
  },
  {
   "cell_type": "code",
   "execution_count": 32,
   "metadata": {},
   "outputs": [],
   "source": [
    "threshold=tp_first_8_months['PRECIP_QUANTITY']*0.5"
   ]
  },
  {
   "cell_type": "code",
   "execution_count": 28,
   "metadata": {},
   "outputs": [],
   "source": [
    "rainy_days_ranked=rainy_days.sort_values(by=['year','PRECIP_QUANTITY'],ascending=[True,False])"
   ]
  },
  {
   "cell_type": "code",
   "execution_count": 39,
   "metadata": {},
   "outputs": [],
   "source": [
    "# Initialize the list to store the number of days needed per year to reach the threshold\n",
    "wd50 = []\n",
    "\n",
    "\n",
    "for this_year in years:\n",
    "    this_year = int(this_year)\n",
    "    i=f'{this_year}'\n",
    "    cumsum = 0\n",
    "    days_count = 0 \n",
    "    for index, row in rainy_days_ranked[rainy_days_ranked['year'] == i].iterrows():\n",
    "        cumsum += row['PRECIP_QUANTITY']\n",
    "        days_count += 1 \n",
    "        #if cumsum > threshold[int(this_year) - first_year]:\n",
    "        if cumsum > 300:    \n",
    "            wd50.append(days_count) \n",
    "            break\n",
    "\n",
    "    \n",
    "    # Debugging print statements\n",
    "    #print(f\"Year: {this_year}, Cumulative Sum: {cumsum}, Days Needed: {days_count}, Threshold: {threshold[this_year - first_year]}\")\n"
   ]
  },
  {
   "cell_type": "code",
   "execution_count": 40,
   "metadata": {},
   "outputs": [
    {
     "data": {
      "text/html": [
       "<div>\n",
       "<style scoped>\n",
       "    .dataframe tbody tr th:only-of-type {\n",
       "        vertical-align: middle;\n",
       "    }\n",
       "\n",
       "    .dataframe tbody tr th {\n",
       "        vertical-align: top;\n",
       "    }\n",
       "\n",
       "    .dataframe thead th {\n",
       "        text-align: right;\n",
       "    }\n",
       "</style>\n",
       "<table border=\"1\" class=\"dataframe\">\n",
       "  <thead>\n",
       "    <tr style=\"text-align: right;\">\n",
       "      <th></th>\n",
       "      <th>DAY</th>\n",
       "      <th>PRECIP_QUANTITY</th>\n",
       "      <th>year</th>\n",
       "      <th>year_month</th>\n",
       "      <th>month</th>\n",
       "    </tr>\n",
       "  </thead>\n",
       "  <tbody>\n",
       "    <tr>\n",
       "      <th>48402</th>\n",
       "      <td>2024-07-09</td>\n",
       "      <td>43.5</td>\n",
       "      <td>2024</td>\n",
       "      <td>2024-07</td>\n",
       "      <td>7</td>\n",
       "    </tr>\n",
       "    <tr>\n",
       "      <th>48424</th>\n",
       "      <td>2024-07-31</td>\n",
       "      <td>37.5</td>\n",
       "      <td>2024</td>\n",
       "      <td>2024-07</td>\n",
       "      <td>7</td>\n",
       "    </tr>\n",
       "    <tr>\n",
       "      <th>48437</th>\n",
       "      <td>2024-08-13</td>\n",
       "      <td>31.5</td>\n",
       "      <td>2024</td>\n",
       "      <td>2024-08</td>\n",
       "      <td>8</td>\n",
       "    </tr>\n",
       "    <tr>\n",
       "      <th>48426</th>\n",
       "      <td>2024-08-02</td>\n",
       "      <td>29.0</td>\n",
       "      <td>2024</td>\n",
       "      <td>2024-08</td>\n",
       "      <td>8</td>\n",
       "    </tr>\n",
       "    <tr>\n",
       "      <th>48248</th>\n",
       "      <td>2024-02-06</td>\n",
       "      <td>22.5</td>\n",
       "      <td>2024</td>\n",
       "      <td>2024-02</td>\n",
       "      <td>2</td>\n",
       "    </tr>\n",
       "    <tr>\n",
       "      <th>48213</th>\n",
       "      <td>2024-01-02</td>\n",
       "      <td>20.6</td>\n",
       "      <td>2024</td>\n",
       "      <td>2024-01</td>\n",
       "      <td>1</td>\n",
       "    </tr>\n",
       "    <tr>\n",
       "      <th>48349</th>\n",
       "      <td>2024-05-17</td>\n",
       "      <td>20.1</td>\n",
       "      <td>2024</td>\n",
       "      <td>2024-05</td>\n",
       "      <td>5</td>\n",
       "    </tr>\n",
       "    <tr>\n",
       "      <th>48405</th>\n",
       "      <td>2024-07-12</td>\n",
       "      <td>19.1</td>\n",
       "      <td>2024</td>\n",
       "      <td>2024-07</td>\n",
       "      <td>7</td>\n",
       "    </tr>\n",
       "    <tr>\n",
       "      <th>48464</th>\n",
       "      <td>2024-09-09</td>\n",
       "      <td>19.0</td>\n",
       "      <td>2024</td>\n",
       "      <td>2024-09</td>\n",
       "      <td>9</td>\n",
       "    </tr>\n",
       "    <tr>\n",
       "      <th>48381</th>\n",
       "      <td>2024-06-18</td>\n",
       "      <td>18.7</td>\n",
       "      <td>2024</td>\n",
       "      <td>2024-06</td>\n",
       "      <td>6</td>\n",
       "    </tr>\n",
       "    <tr>\n",
       "      <th>48444</th>\n",
       "      <td>2024-08-20</td>\n",
       "      <td>18.7</td>\n",
       "      <td>2024</td>\n",
       "      <td>2024-08</td>\n",
       "      <td>8</td>\n",
       "    </tr>\n",
       "    <tr>\n",
       "      <th>48404</th>\n",
       "      <td>2024-07-11</td>\n",
       "      <td>18.4</td>\n",
       "      <td>2024</td>\n",
       "      <td>2024-07</td>\n",
       "      <td>7</td>\n",
       "    </tr>\n",
       "    <tr>\n",
       "      <th>48282</th>\n",
       "      <td>2024-03-11</td>\n",
       "      <td>16.6</td>\n",
       "      <td>2024</td>\n",
       "      <td>2024-03</td>\n",
       "      <td>3</td>\n",
       "    </tr>\n",
       "    <tr>\n",
       "      <th>48481</th>\n",
       "      <td>2024-09-26</td>\n",
       "      <td>16.2</td>\n",
       "      <td>2024</td>\n",
       "      <td>2024-09</td>\n",
       "      <td>9</td>\n",
       "    </tr>\n",
       "    <tr>\n",
       "      <th>48458</th>\n",
       "      <td>2024-09-03</td>\n",
       "      <td>15.7</td>\n",
       "      <td>2024</td>\n",
       "      <td>2024-09</td>\n",
       "      <td>9</td>\n",
       "    </tr>\n",
       "    <tr>\n",
       "      <th>48334</th>\n",
       "      <td>2024-05-02</td>\n",
       "      <td>15.3</td>\n",
       "      <td>2024</td>\n",
       "      <td>2024-05</td>\n",
       "      <td>5</td>\n",
       "    </tr>\n",
       "    <tr>\n",
       "      <th>48250</th>\n",
       "      <td>2024-02-08</td>\n",
       "      <td>15.1</td>\n",
       "      <td>2024</td>\n",
       "      <td>2024-02</td>\n",
       "      <td>2</td>\n",
       "    </tr>\n",
       "    <tr>\n",
       "      <th>48212</th>\n",
       "      <td>2024-01-01</td>\n",
       "      <td>14.4</td>\n",
       "      <td>2024</td>\n",
       "      <td>2024-01</td>\n",
       "      <td>1</td>\n",
       "    </tr>\n",
       "    <tr>\n",
       "      <th>48305</th>\n",
       "      <td>2024-04-03</td>\n",
       "      <td>13.1</td>\n",
       "      <td>2024</td>\n",
       "      <td>2024-04</td>\n",
       "      <td>4</td>\n",
       "    </tr>\n",
       "    <tr>\n",
       "      <th>48379</th>\n",
       "      <td>2024-06-16</td>\n",
       "      <td>12.9</td>\n",
       "      <td>2024</td>\n",
       "      <td>2024-06</td>\n",
       "      <td>6</td>\n",
       "    </tr>\n",
       "  </tbody>\n",
       "</table>\n",
       "</div>"
      ],
      "text/plain": [
       "             DAY  PRECIP_QUANTITY  year year_month  month\n",
       "48402 2024-07-09             43.5  2024    2024-07      7\n",
       "48424 2024-07-31             37.5  2024    2024-07      7\n",
       "48437 2024-08-13             31.5  2024    2024-08      8\n",
       "48426 2024-08-02             29.0  2024    2024-08      8\n",
       "48248 2024-02-06             22.5  2024    2024-02      2\n",
       "48213 2024-01-02             20.6  2024    2024-01      1\n",
       "48349 2024-05-17             20.1  2024    2024-05      5\n",
       "48405 2024-07-12             19.1  2024    2024-07      7\n",
       "48464 2024-09-09             19.0  2024    2024-09      9\n",
       "48381 2024-06-18             18.7  2024    2024-06      6\n",
       "48444 2024-08-20             18.7  2024    2024-08      8\n",
       "48404 2024-07-11             18.4  2024    2024-07      7\n",
       "48282 2024-03-11             16.6  2024    2024-03      3\n",
       "48481 2024-09-26             16.2  2024    2024-09      9\n",
       "48458 2024-09-03             15.7  2024    2024-09      9\n",
       "48334 2024-05-02             15.3  2024    2024-05      5\n",
       "48250 2024-02-08             15.1  2024    2024-02      2\n",
       "48212 2024-01-01             14.4  2024    2024-01      1\n",
       "48305 2024-04-03             13.1  2024    2024-04      4\n",
       "48379 2024-06-16             12.9  2024    2024-06      6"
      ]
     },
     "execution_count": 40,
     "metadata": {},
     "output_type": "execute_result"
    }
   ],
   "source": [
    "\n",
    "#la integral de esto tiene que ser igual a la probabilidad de tener mas de 500 osea 83/133\n",
    "#la y axis tiene entonces que ser una densidad de probabilidad\n",
    "#Fitten una GEV (Gamma) y encontrar el quantile en el cual du coup se encuentra el caso de mas de 800\n",
    "rainy_days_ranked[rainy_days_ranked['year']=='2024'][0:20]"
   ]
  },
  {
   "cell_type": "code",
   "execution_count": 41,
   "metadata": {},
   "outputs": [
    {
     "data": {
      "image/png": "[encoded data removed]",
      "text/plain": [
       "<Figure size 720x432 with 1 Axes>"
      ]
     },
     "metadata": {
      "needs_background": "light"
     },
     "output_type": "display_data"
    },
    {
     "name": "stdout",
     "output_type": "stream",
     "text": [
      "Moyenne de WD50 de 1892-1992: 19.99 et de 1992-2024: 16.625\n"
     ]
    }
   ],
   "source": [
    "plt.figure(figsize=(10, 6))\n",
    "plt.bar(years, wd50, label='Total Precipitation')\n",
    "plt.ylabel('Days')\n",
    "plt.title('WD50')\n",
    "plt.grid()\n",
    "#z = np.polyfit(years, wd50, 1)\n",
    "#p = np.poly1d(z)\n",
    "#plt.plot(years, p(years), \"r--\", label='Trendline')\n",
    "\n",
    "plt.show()\n",
    "\n",
    "print(f'Moyenne de WD50 de 1892-1992: {np.mean(wd50[0:100])} et de 1992-2024: {np.mean(wd50[101:])}')"
   ]
  },
  {
   "cell_type": "code",
   "execution_count": null,
   "metadata": {},
   "outputs": [],
   "source": []
  },
  {
   "cell_type": "code",
   "execution_count": null,
   "metadata": {},
   "outputs": [],
   "source": []
  }
 ],
 "metadata": {
  "kernelspec": {
   "display_name": "base",
   "language": "python",
   "name": "python3"
  },
  "language_info": {
   "codemirror_mode": {
    "name": "ipython",
    "version": 3
   },
   "file_extension": ".py",
   "mimetype": "text/x-python",
   "name": "python",
   "nbconvert_exporter": "python",
   "pygments_lexer": "ipython3",
   "version": "3.8.5"
  }
 },
 "nbformat": 4,
 "nbformat_minor": 2
}
