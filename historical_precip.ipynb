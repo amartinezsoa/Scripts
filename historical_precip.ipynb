{
 "cells": [
  {
   "cell_type": "code",
   "execution_count": 2,
   "metadata": {},
   "outputs": [],
   "source": [
    "import numpy as np\n",
    "import os\n",
    "import netCDF4 as nc\n",
    "import matplotlib.pyplot as plt\n",
    "import pandas as pd\n",
    "year_of_interest = '1999' \n",
    "\n",
    "path = f'C:/Users/anton/Documents/Master2/Memoire/Scripts/precip/data/all_years/download_precip_Bruxelles_{year_of_interest}.nc'\n",
    "\n",
    "\n",
    "data = nc.Dataset(path)\n",
    "first_year=1959\n",
    "last_year=2024\n",
    "years=np.linspace(first_year,last_year,last_year-first_year+1)"
   ]
  },
  {
   "cell_type": "code",
   "execution_count": 3,
   "metadata": {},
   "outputs": [
    {
     "data": {
      "text/plain": [
       "(8760, 1, 1)"
      ]
     },
     "execution_count": 3,
     "metadata": {},
     "output_type": "execute_result"
    }
   ],
   "source": [
    "data.variables.keys()\n",
    "data.variables['tp'][:].shape"
   ]
  },
  {
   "cell_type": "code",
   "execution_count": 4,
   "metadata": {},
   "outputs": [
    {
     "data": {
      "text/plain": [
       "DatetimeIndex(['1999-12-31'], dtype='datetime64[ns]', freq='A-DEC')"
      ]
     },
     "execution_count": 4,
     "metadata": {},
     "output_type": "execute_result"
    }
   ],
   "source": [
    "\n",
    "hourly_data = data.variables['tp'][0:4344,0,0].flatten()\n",
    "\n",
    "# Create a DataFrame with the hourly data\n",
    "df = pd.DataFrame(hourly_data, columns=['value'])\n",
    "\n",
    "# Create a date range for the period covered by your data\n",
    "date_range = pd.date_range(start=f'{year_of_interest}-01-01', periods=len(hourly_data),freq='H')\n",
    "\n",
    "# Assign the date range to the DataFrame as an index\n",
    "df.index = date_range\n",
    "\n",
    "# Resample the data by month and aggregate (e.g., sum, mean)\n",
    "monthly_data = df.resample('Y').sum()  # You can also use .mean(), .max(), etc.\n",
    "\n",
    "monthly_array = np.array([[month, value[0]] for month, value in monthly_data.iterrows()])\n",
    "monthly_data.index"
   ]
  },
  {
   "cell_type": "code",
   "execution_count": 5,
   "metadata": {},
   "outputs": [
    {
     "data": {
      "image/png": "[encoded data removed]",
      "text/plain": [
       "<Figure size 720x432 with 1 Axes>"
      ]
     },
     "metadata": {
      "needs_background": "light"
     },
     "output_type": "display_data"
    }
   ],
   "source": [
    "plt.figure(figsize=(10, 6))\n",
    "plt.bar(monthly_data.index, monthly_data['value']*1000,width=20)\n",
    "plt.ylabel('Precipitation [mm]')\n",
    "plt.title('Monthly Precipitation')\n",
    "plt.grid()\n",
    "plt.xticks(monthly_data.index, monthly_data.index.strftime('%b %Y'), rotation=45)\n",
    "plt.show()"
   ]
  },
  {
   "cell_type": "code",
   "execution_count": 7,
   "metadata": {},
   "outputs": [
    {
     "data": {
      "text/plain": [
       "0.4020434715393077"
      ]
     },
     "execution_count": 7,
     "metadata": {},
     "output_type": "execute_result"
    }
   ],
   "source": [
    "all_years = os.listdir('C:/Users/anton/Documents/Master2/Memoire/Scripts/precip/data/all_years')\n",
    "historic_precipitation=[]\n",
    "\n",
    "for year in all_years:\n",
    "    data=nc.Dataset(f'C:/Users/anton/Documents/Master2/Memoire/Scripts/precip/data/all_years/{year}')\n",
    "    year_len=len(data.variables['tp'][:,0,0].flatten())\n",
    "    total_precipitation = data.variables['tp'][0:int(year_len/2),0,0].flatten().sum()\n",
    "    historic_precipitation.append(total_precipitation)\n",
    "\n",
    "year2024=os.listdir('C:/Users/anton/Documents/Master2/Memoire/Scripts/precip/data/2024')\n",
    "sum2024=0\n",
    "for month in year2024:\n",
    "    data=nc.Dataset(f'C:/Users/anton/Documents/Master2/Memoire/Scripts/precip/data/2024/{month}')\n",
    "    tp_moi=data.variables['tp'][:,0,0].flatten().sum()\n",
    "    sum2024+=tp_moi\n",
    "historic_precipitation.append(sum2024)\n",
    "np.mean(historic_precipitation)\n"
   ]
  },
  {
   "cell_type": "code",
   "execution_count": 10,
   "metadata": {},
   "outputs": [],
   "source": []
  },
  {
   "cell_type": "code",
   "execution_count": 9,
   "metadata": {},
   "outputs": [
    {
     "data": {
      "image/png": "[encoded data removed]",
      "text/plain": [
       "<Figure size 720x432 with 1 Axes>"
      ]
     },
     "metadata": {
      "needs_background": "light"
     },
     "output_type": "display_data"
    }
   ],
   "source": [
    "plt.figure(figsize=(10, 6))\n",
    "plt.bar(years, historic_precipitation)\n",
    "plt.ylabel('Total Precipitation [m]')\n",
    "plt.title('Historic Precipitation of first semester')\n",
    "plt.grid()\n",
    "plt.show()"
   ]
  },
  {
   "cell_type": "code",
   "execution_count": 15,
   "metadata": {},
   "outputs": [
    {
     "data": {
      "text/plain": [
       "0.07193281646061203"
      ]
     },
     "execution_count": 15,
     "metadata": {},
     "output_type": "execute_result"
    }
   ],
   "source": [
    "datatest=nc.Dataset('C:/Users/anton/Documents/Master2/Memoire/Scripts/precip/data/2024/download_precip_Bruxelles_2024_01.nc')\n",
    "\n",
    "datatest['tp'][:,0,0].flatten().sum()"
   ]
  },
  {
   "cell_type": "code",
   "execution_count": null,
   "metadata": {},
   "outputs": [],
   "source": []
  }
 ],
 "metadata": {
  "kernelspec": {
   "display_name": "base",
   "language": "python",
   "name": "python3"
  },
  "language_info": {
   "codemirror_mode": {
    "name": "ipython",
    "version": 3
   },
   "file_extension": ".py",
   "mimetype": "text/x-python",
   "name": "python",
   "nbconvert_exporter": "python",
   "pygments_lexer": "ipython3",
   "version": "3.8.5"
  }
 },
 "nbformat": 4,
 "nbformat_minor": 2
}
